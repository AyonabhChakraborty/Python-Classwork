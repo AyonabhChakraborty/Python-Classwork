{
 "cells": [
  {
   "cell_type": "code",
   "execution_count": 30,
   "id": "8eebd7e2-eb96-44db-9a0b-ce0dfa306bdb",
   "metadata": {},
   "outputs": [],
   "source": [
    "l1 = [1,2,\"red\", 3+6j, 67]"
   ]
  },
  {
   "cell_type": "code",
   "execution_count": 3,
   "id": "158b9d77-0d31-4681-9bec-fac918dd9926",
   "metadata": {},
   "outputs": [
    {
     "data": {
      "text/plain": [
       "[1, 2, 'red', (3+6j), 67]"
      ]
     },
     "execution_count": 3,
     "metadata": {},
     "output_type": "execute_result"
    }
   ],
   "source": [
    "l1"
   ]
  },
  {
   "cell_type": "code",
   "execution_count": 32,
   "id": "4a7e723b-113f-4afb-97dc-e97760824b7c",
   "metadata": {},
   "outputs": [],
   "source": [
    "l2 = [3,4,5,\"pwskills\", \"lab\"]"
   ]
  },
  {
   "cell_type": "code",
   "execution_count": 33,
   "id": "ff3de4c6-68e7-4259-95cd-8b2165d604ee",
   "metadata": {},
   "outputs": [
    {
     "data": {
      "text/plain": [
       "[3, 4, 5, 'pwskills', 'lab']"
      ]
     },
     "execution_count": 33,
     "metadata": {},
     "output_type": "execute_result"
    }
   ],
   "source": [
    "l2"
   ]
  },
  {
   "cell_type": "code",
   "execution_count": 6,
   "id": "fb36f8ba-c346-4861-8d10-cf2c805edc78",
   "metadata": {},
   "outputs": [
    {
     "data": {
      "text/plain": [
       "[1, 2, 'red', (3+6j), 67, 3, 4, 5, 'pwskills', 'lab']"
      ]
     },
     "execution_count": 6,
     "metadata": {},
     "output_type": "execute_result"
    }
   ],
   "source": [
    "l1+l2"
   ]
  },
  {
   "cell_type": "code",
   "execution_count": 7,
   "id": "844165d7-d95f-4307-8063-c80a5683735c",
   "metadata": {},
   "outputs": [
    {
     "data": {
      "text/plain": [
       "3"
      ]
     },
     "execution_count": 7,
     "metadata": {},
     "output_type": "execute_result"
    }
   ],
   "source": [
    "l2[0]\n"
   ]
  },
  {
   "cell_type": "code",
   "execution_count": 8,
   "id": "15e8106d-b2ea-4a16-af0a-080327270a22",
   "metadata": {},
   "outputs": [
    {
     "data": {
      "text/plain": [
       "67"
      ]
     },
     "execution_count": 8,
     "metadata": {},
     "output_type": "execute_result"
    }
   ],
   "source": [
    "l1[-1]"
   ]
  },
  {
   "cell_type": "code",
   "execution_count": 9,
   "id": "4f0218da-4e42-410a-a993-b1c624652933",
   "metadata": {},
   "outputs": [],
   "source": [
    "l2[0] = 300"
   ]
  },
  {
   "cell_type": "code",
   "execution_count": 10,
   "id": "06154a3c-b48b-437f-afb3-dbeb49d5c8ff",
   "metadata": {},
   "outputs": [
    {
     "data": {
      "text/plain": [
       "[300, 4, 5, 'pwskills', 'lab']"
      ]
     },
     "execution_count": 10,
     "metadata": {},
     "output_type": "execute_result"
    }
   ],
   "source": [
    "l2"
   ]
  },
  {
   "cell_type": "code",
   "execution_count": 100,
   "id": "e89fe31e-78fe-40af-94b9-ea8180585552",
   "metadata": {},
   "outputs": [],
   "source": [
    "t = (1,2,3,4,\"red\",\"number9\", 4+5j, True)"
   ]
  },
  {
   "cell_type": "code",
   "execution_count": 12,
   "id": "0c332c7c-97bd-4a68-9fc2-56ce0955f879",
   "metadata": {},
   "outputs": [
    {
     "data": {
      "text/plain": [
       "(1, 2, 3, 4, 'red', 'number9', (4+5j), True)"
      ]
     },
     "execution_count": 12,
     "metadata": {},
     "output_type": "execute_result"
    }
   ],
   "source": [
    "t"
   ]
  },
  {
   "cell_type": "code",
   "execution_count": 14,
   "id": "8931475c-1435-496c-aa55-66d9879bcbc0",
   "metadata": {},
   "outputs": [
    {
     "data": {
      "text/plain": [
       "list"
      ]
     },
     "execution_count": 14,
     "metadata": {},
     "output_type": "execute_result"
    }
   ],
   "source": [
    "type(l1)"
   ]
  },
  {
   "cell_type": "code",
   "execution_count": 15,
   "id": "23bc40e6-5c64-45ec-ab3c-756f7630ec24",
   "metadata": {},
   "outputs": [
    {
     "data": {
      "text/plain": [
       "list"
      ]
     },
     "execution_count": 15,
     "metadata": {},
     "output_type": "execute_result"
    }
   ],
   "source": [
    "type(l2)"
   ]
  },
  {
   "cell_type": "code",
   "execution_count": 16,
   "id": "08648faa-bb38-4536-a813-19f06cf3cb75",
   "metadata": {},
   "outputs": [
    {
     "data": {
      "text/plain": [
       "tuple"
      ]
     },
     "execution_count": 16,
     "metadata": {},
     "output_type": "execute_result"
    }
   ],
   "source": [
    "type(t)\n"
   ]
  },
  {
   "cell_type": "code",
   "execution_count": 17,
   "id": "4ed3b5d8-21a6-48b7-84ea-9a5384de889f",
   "metadata": {},
   "outputs": [
    {
     "data": {
      "text/plain": [
       "1"
      ]
     },
     "execution_count": 17,
     "metadata": {},
     "output_type": "execute_result"
    }
   ],
   "source": [
    "t[0]"
   ]
  },
  {
   "cell_type": "code",
   "execution_count": 18,
   "id": "915aafa3-b5d4-459f-be9a-e91dfeb982cb",
   "metadata": {},
   "outputs": [
    {
     "ename": "TypeError",
     "evalue": "'tuple' object does not support item assignment",
     "output_type": "error",
     "traceback": [
      "\u001b[0;31m---------------------------------------------------------------------------\u001b[0m",
      "\u001b[0;31mTypeError\u001b[0m                                 Traceback (most recent call last)",
      "Cell \u001b[0;32mIn[18], line 1\u001b[0m\n\u001b[0;32m----> 1\u001b[0m \u001b[43mt\u001b[49m\u001b[43m[\u001b[49m\u001b[38;5;241;43m0\u001b[39;49m\u001b[43m]\u001b[49m\u001b[38;5;241m=\u001b[39m\u001b[38;5;124m\"\u001b[39m\u001b[38;5;124msud\u001b[39m\u001b[38;5;124m\"\u001b[39m\n",
      "\u001b[0;31mTypeError\u001b[0m: 'tuple' object does not support item assignment"
     ]
    }
   ],
   "source": [
    "t[0]=\"sud\""
   ]
  },
  {
   "cell_type": "code",
   "execution_count": 19,
   "id": "22adddbe-92f3-4422-b445-e841b12cf07e",
   "metadata": {},
   "outputs": [
    {
     "data": {
      "text/plain": [
       "(True, (4+5j), 'number9', 'red', 4, 3, 2, 1)"
      ]
     },
     "execution_count": 19,
     "metadata": {},
     "output_type": "execute_result"
    }
   ],
   "source": [
    "t[::-1]"
   ]
  },
  {
   "cell_type": "code",
   "execution_count": 20,
   "id": "3f76d988-f59f-42d4-9bc0-5c1fc179d082",
   "metadata": {},
   "outputs": [],
   "source": [
    "t1 = (5,6,7,8)"
   ]
  },
  {
   "cell_type": "code",
   "execution_count": 21,
   "id": "c15e89d6-8ef9-4eb7-93a6-e688e03c168b",
   "metadata": {},
   "outputs": [
    {
     "data": {
      "text/plain": [
       "(5, 6, 7, 8)"
      ]
     },
     "execution_count": 21,
     "metadata": {},
     "output_type": "execute_result"
    }
   ],
   "source": [
    "t1"
   ]
  },
  {
   "cell_type": "code",
   "execution_count": 22,
   "id": "954570e7-6f83-4258-a6a7-9d0c111d79b3",
   "metadata": {},
   "outputs": [
    {
     "data": {
      "text/plain": [
       "(1, 2, 3, 4, 'red', 'number9', (4+5j), True, 5, 6, 7, 8)"
      ]
     },
     "execution_count": 22,
     "metadata": {},
     "output_type": "execute_result"
    }
   ],
   "source": [
    "t+t1"
   ]
  },
  {
   "cell_type": "code",
   "execution_count": 23,
   "id": "c1e172a9-5a43-4591-9bcc-40ab88f4d899",
   "metadata": {},
   "outputs": [
    {
     "data": {
      "text/plain": [
       "(1, 2, 3, 4, 'red', 'number9', (4+5j), True)"
      ]
     },
     "execution_count": 23,
     "metadata": {},
     "output_type": "execute_result"
    }
   ],
   "source": [
    "t"
   ]
  },
  {
   "cell_type": "code",
   "execution_count": 24,
   "id": "64997651-55d5-4e49-b850-dc0220a1b312",
   "metadata": {},
   "outputs": [
    {
     "data": {
      "text/plain": [
       "[1, 2, 3, 4, 'red', 'number9', (4+5j), True]"
      ]
     },
     "execution_count": 24,
     "metadata": {},
     "output_type": "execute_result"
    }
   ],
   "source": [
    "list(t)"
   ]
  },
  {
   "cell_type": "code",
   "execution_count": 25,
   "id": "31aed40b-e4cf-49ec-92c9-ccee81339ba3",
   "metadata": {},
   "outputs": [
    {
     "data": {
      "text/plain": [
       "[1, 2, 'red', (3+6j), 67]"
      ]
     },
     "execution_count": 25,
     "metadata": {},
     "output_type": "execute_result"
    }
   ],
   "source": [
    "l1"
   ]
  },
  {
   "cell_type": "code",
   "execution_count": 26,
   "id": "03024b10-23c8-46d6-a6df-267405cc7e8b",
   "metadata": {},
   "outputs": [
    {
     "data": {
      "text/plain": [
       "(1, 2, 'red', (3+6j), 67)"
      ]
     },
     "execution_count": 26,
     "metadata": {},
     "output_type": "execute_result"
    }
   ],
   "source": [
    "tuple(l1)"
   ]
  },
  {
   "cell_type": "code",
   "execution_count": 27,
   "id": "3aa74555-3a71-431d-9cb5-87cd28276a4a",
   "metadata": {},
   "outputs": [
    {
     "data": {
      "text/plain": [
       "8"
      ]
     },
     "execution_count": 27,
     "metadata": {},
     "output_type": "execute_result"
    }
   ],
   "source": [
    "len(t)"
   ]
  },
  {
   "cell_type": "code",
   "execution_count": 28,
   "id": "44f23f05-4e6c-4958-8d1f-44044b17ea13",
   "metadata": {},
   "outputs": [
    {
     "data": {
      "text/plain": [
       "7"
      ]
     },
     "execution_count": 28,
     "metadata": {},
     "output_type": "execute_result"
    }
   ],
   "source": [
    "len(\"ayonabh\")"
   ]
  },
  {
   "cell_type": "code",
   "execution_count": 29,
   "id": "ccea7d95-47be-4fe9-b131-6491d6475649",
   "metadata": {},
   "outputs": [
    {
     "data": {
      "text/plain": [
       "5"
      ]
     },
     "execution_count": 29,
     "metadata": {},
     "output_type": "execute_result"
    }
   ],
   "source": [
    "len(l1)"
   ]
  },
  {
   "cell_type": "code",
   "execution_count": 30,
   "id": "a1248ce5-f676-4762-b228-45f6591a7ee8",
   "metadata": {},
   "outputs": [
    {
     "data": {
      "text/plain": [
       "[1, 2, 'red', (3+6j), 67]"
      ]
     },
     "execution_count": 30,
     "metadata": {},
     "output_type": "execute_result"
    }
   ],
   "source": [
    "l1"
   ]
  },
  {
   "cell_type": "code",
   "execution_count": 106,
   "id": "74dc033f-f87f-457f-a210-8509b2eff4b9",
   "metadata": {},
   "outputs": [],
   "source": [
    "s = {}"
   ]
  },
  {
   "cell_type": "code",
   "execution_count": 34,
   "id": "43fa4a1d-10a7-4c04-b34e-533d1023bd80",
   "metadata": {},
   "outputs": [
    {
     "data": {
      "text/plain": [
       "dict"
      ]
     },
     "execution_count": 34,
     "metadata": {},
     "output_type": "execute_result"
    }
   ],
   "source": [
    "type(s)"
   ]
  },
  {
   "cell_type": "code",
   "execution_count": 35,
   "id": "a9726519-ac04-49d5-bda8-829053052259",
   "metadata": {},
   "outputs": [],
   "source": [
    "s1 = {1,2,3,4,5,6}"
   ]
  },
  {
   "cell_type": "code",
   "execution_count": 36,
   "id": "bb3f82b5-8261-40e1-9be5-9b3e3f646e3f",
   "metadata": {},
   "outputs": [
    {
     "data": {
      "text/plain": [
       "set"
      ]
     },
     "execution_count": 36,
     "metadata": {},
     "output_type": "execute_result"
    }
   ],
   "source": [
    "type(s1)"
   ]
  },
  {
   "cell_type": "code",
   "execution_count": 37,
   "id": "f5c6cce6-bafd-4f20-8b01-a700dcc7af91",
   "metadata": {},
   "outputs": [
    {
     "data": {
      "text/plain": [
       "{1, 2, 3, 4, 5, 6}"
      ]
     },
     "execution_count": 37,
     "metadata": {},
     "output_type": "execute_result"
    }
   ],
   "source": [
    "s1"
   ]
  },
  {
   "cell_type": "code",
   "execution_count": 38,
   "id": "aa15b46c-cefa-4900-9b76-367b0734298c",
   "metadata": {},
   "outputs": [],
   "source": [
    "s2 = {\"ayonabh\", \"arnab\", \"saatvik\", \"rumpa\", 1,2,3,4,5,6,7,8,9,0}"
   ]
  },
  {
   "cell_type": "code",
   "execution_count": 39,
   "id": "83231142-5ca2-4884-8618-8aafc22403ca",
   "metadata": {},
   "outputs": [
    {
     "data": {
      "text/plain": [
       "{0, 1, 2, 3, 4, 5, 6, 7, 8, 9, 'arnab', 'ayonabh', 'rumpa', 'saatvik'}"
      ]
     },
     "execution_count": 39,
     "metadata": {},
     "output_type": "execute_result"
    }
   ],
   "source": [
    "s2"
   ]
  },
  {
   "cell_type": "code",
   "execution_count": 40,
   "id": "9026dd4e-0af4-48fb-9ff2-eb7ae4732cdc",
   "metadata": {},
   "outputs": [
    {
     "data": {
      "text/plain": [
       "[0, 1, 2, 3, 4, 5, 6, 7, 8, 9, 'saatvik', 'ayonabh', 'arnab', 'rumpa']"
      ]
     },
     "execution_count": 40,
     "metadata": {},
     "output_type": "execute_result"
    }
   ],
   "source": [
    "list(s2)"
   ]
  },
  {
   "cell_type": "code",
   "execution_count": 41,
   "id": "ed84e43b-f2c4-446a-b203-20fa78922709",
   "metadata": {},
   "outputs": [
    {
     "data": {
      "text/plain": [
       "{(3+6j), 1, 2, 67, 'red'}"
      ]
     },
     "execution_count": 41,
     "metadata": {},
     "output_type": "execute_result"
    }
   ],
   "source": [
    "set(l1)"
   ]
  },
  {
   "cell_type": "code",
   "execution_count": 42,
   "id": "df099855-3f82-4273-b20a-a028a951668c",
   "metadata": {},
   "outputs": [
    {
     "data": {
      "text/plain": [
       "(1, 2, 3, 4, 5, 6)"
      ]
     },
     "execution_count": 42,
     "metadata": {},
     "output_type": "execute_result"
    }
   ],
   "source": [
    "tuple(s1)"
   ]
  },
  {
   "cell_type": "code",
   "execution_count": 43,
   "id": "06080d08-25fb-4025-8d8d-53ec10d6d264",
   "metadata": {},
   "outputs": [
    {
     "data": {
      "text/plain": [
       "[1, 2, 'red', (3+6j), 67]"
      ]
     },
     "execution_count": 43,
     "metadata": {},
     "output_type": "execute_result"
    }
   ],
   "source": [
    "l1"
   ]
  },
  {
   "cell_type": "code",
   "execution_count": 44,
   "id": "1d6a4152-ef54-4d09-aaf0-f6b184805216",
   "metadata": {},
   "outputs": [
    {
     "data": {
      "text/plain": [
       "{(3+6j), 1, 2, 67, 'red'}"
      ]
     },
     "execution_count": 44,
     "metadata": {},
     "output_type": "execute_result"
    }
   ],
   "source": [
    "set(l1)"
   ]
  },
  {
   "cell_type": "code",
   "execution_count": 46,
   "id": "655cfd29-88f3-46ec-acb4-81382c768924",
   "metadata": {},
   "outputs": [
    {
     "data": {
      "text/plain": [
       "(0, 1, 2, 3, 4, 5, 6, 7, 8, 9, 'saatvik', 'ayonabh', 'arnab', 'rumpa')"
      ]
     },
     "execution_count": 46,
     "metadata": {},
     "output_type": "execute_result"
    }
   ],
   "source": [
    "tuple(s2)"
   ]
  },
  {
   "cell_type": "code",
   "execution_count": 47,
   "id": "6c4efc62-9116-4ce8-860a-0a21b8f11f8b",
   "metadata": {},
   "outputs": [
    {
     "ename": "TypeError",
     "evalue": "'set' object is not subscriptable",
     "output_type": "error",
     "traceback": [
      "\u001b[0;31m---------------------------------------------------------------------------\u001b[0m",
      "\u001b[0;31mTypeError\u001b[0m                                 Traceback (most recent call last)",
      "Cell \u001b[0;32mIn[47], line 1\u001b[0m\n\u001b[0;32m----> 1\u001b[0m \u001b[43ms2\u001b[49m\u001b[43m[\u001b[49m\u001b[38;5;241;43m0\u001b[39;49m\u001b[43m]\u001b[49m\n",
      "\u001b[0;31mTypeError\u001b[0m: 'set' object is not subscriptable"
     ]
    }
   ],
   "source": [
    "s2[0]"
   ]
  },
  {
   "cell_type": "code",
   "execution_count": 48,
   "id": "adc664ec-1771-4da0-870b-eefc15bf8df9",
   "metadata": {},
   "outputs": [],
   "source": [
    "s3 = {345.55, 47759, 34, 56, 54, 53, 23, 48, 96, 61, 12,13,\"ayonabh123\", 234.67}"
   ]
  },
  {
   "cell_type": "code",
   "execution_count": 49,
   "id": "2f120daf-eda8-4cb0-909d-1901796d429e",
   "metadata": {},
   "outputs": [
    {
     "data": {
      "text/plain": [
       "{12, 13, 23, 234.67, 34, 345.55, 47759, 48, 53, 54, 56, 61, 96, 'ayonabh123'}"
      ]
     },
     "execution_count": 49,
     "metadata": {},
     "output_type": "execute_result"
    }
   ],
   "source": [
    "s3"
   ]
  },
  {
   "cell_type": "code",
   "execution_count": 124,
   "id": "1445528e-5eda-4293-a98b-b525eb36e569",
   "metadata": {},
   "outputs": [],
   "source": [
    "d = {}"
   ]
  },
  {
   "cell_type": "code",
   "execution_count": 51,
   "id": "949f50ff-e488-4c38-8c0d-89cd76f43eb0",
   "metadata": {},
   "outputs": [
    {
     "data": {
      "text/plain": [
       "dict"
      ]
     },
     "execution_count": 51,
     "metadata": {},
     "output_type": "execute_result"
    }
   ],
   "source": [
    "type(d)\n"
   ]
  },
  {
   "cell_type": "code",
   "execution_count": 125,
   "id": "f4da9538-ff7b-45db-ab17-95371a285fc7",
   "metadata": {},
   "outputs": [],
   "source": [
    "d1 = {'name' : 'ayonav', 'subject' : ['big dta', 'data science', 'data analyst']}"
   ]
  },
  {
   "cell_type": "code",
   "execution_count": 126,
   "id": "e1a93dce-4cff-41c7-854e-c5527ca37c3f",
   "metadata": {},
   "outputs": [
    {
     "data": {
      "text/plain": [
       "{'name': 'ayonav', 'subject': ['big dta', 'data science', 'data analyst']}"
      ]
     },
     "execution_count": 126,
     "metadata": {},
     "output_type": "execute_result"
    }
   ],
   "source": [
    "d1"
   ]
  },
  {
   "cell_type": "code",
   "execution_count": 127,
   "id": "61c55716-401d-42fd-94dd-c2fb6efd1965",
   "metadata": {},
   "outputs": [],
   "source": [
    "#latest value assigned to the key is always displayed\n",
    "d2 = {'name' : 'ronnu', 'name' : 'pwskills'}"
   ]
  },
  {
   "cell_type": "code",
   "execution_count": 128,
   "id": "4e555738-b728-4894-8181-a540da7d2ec2",
   "metadata": {},
   "outputs": [
    {
     "data": {
      "text/plain": [
       "{'name': 'pwskills'}"
      ]
     },
     "execution_count": 128,
     "metadata": {},
     "output_type": "execute_result"
    }
   ],
   "source": [
    "d2"
   ]
  },
  {
   "cell_type": "code",
   "execution_count": 57,
   "id": "186b73f8-dcb6-44d3-ba7b-0d3c395aceeb",
   "metadata": {},
   "outputs": [],
   "source": [
    "d3 = {23 : 'python'}"
   ]
  },
  {
   "cell_type": "code",
   "execution_count": 58,
   "id": "36e0434b-a0ea-4e0a-b9e2-56bf2d4d23ea",
   "metadata": {},
   "outputs": [
    {
     "data": {
      "text/plain": [
       "{23: 'python'}"
      ]
     },
     "execution_count": 58,
     "metadata": {},
     "output_type": "execute_result"
    }
   ],
   "source": [
    "d3"
   ]
  },
  {
   "cell_type": "code",
   "execution_count": 65,
   "id": "6c48d3f1-4a2f-4752-9f36-f9ed57ee0cfb",
   "metadata": {},
   "outputs": [
    {
     "ename": "TypeError",
     "evalue": "unhashable type: 'list'",
     "output_type": "error",
     "traceback": [
      "\u001b[0;31m---------------------------------------------------------------------------\u001b[0m",
      "\u001b[0;31mTypeError\u001b[0m                                 Traceback (most recent call last)",
      "Cell \u001b[0;32mIn[65], line 1\u001b[0m\n\u001b[0;32m----> 1\u001b[0m d4 \u001b[38;5;241m=\u001b[39m { [\u001b[38;5;241m1\u001b[39m,\u001b[38;5;241m2\u001b[39m,\u001b[38;5;241m3\u001b[39m,\u001b[38;5;241m5\u001b[39m] : \u001b[38;5;124m'\u001b[39m\u001b[38;5;124myourtou\u001b[39m\u001b[38;5;124m'\u001b[39m}\n",
      "\u001b[0;31mTypeError\u001b[0m: unhashable type: 'list'"
     ]
    }
   ],
   "source": [
    "#key as a list\n",
    "d4 = { [1,2,3,5] : 'yourtou'}"
   ]
  },
  {
   "cell_type": "code",
   "execution_count": 66,
   "id": "ad067c62-84e0-434e-a786-85521afe5e2d",
   "metadata": {},
   "outputs": [],
   "source": [
    "#key as a tuple\n",
    "d5 = {(1,2,3,4) : 'nameto'}"
   ]
  },
  {
   "cell_type": "code",
   "execution_count": 61,
   "id": "6954a8fc-6f5a-4ef5-9542-5e4bd25c7f00",
   "metadata": {},
   "outputs": [
    {
     "data": {
      "text/plain": [
       "{(1, 2, 3, 4): 'nameto'}"
      ]
     },
     "execution_count": 61,
     "metadata": {},
     "output_type": "execute_result"
    }
   ],
   "source": [
    "d5"
   ]
  },
  {
   "cell_type": "code",
   "execution_count": 67,
   "id": "bb77542e-646f-4d2b-825f-f6dfa27d969a",
   "metadata": {},
   "outputs": [
    {
     "ename": "TypeError",
     "evalue": "unhashable type: 'set'",
     "output_type": "error",
     "traceback": [
      "\u001b[0;31m---------------------------------------------------------------------------\u001b[0m",
      "\u001b[0;31mTypeError\u001b[0m                                 Traceback (most recent call last)",
      "Cell \u001b[0;32mIn[67], line 1\u001b[0m\n\u001b[0;32m----> 1\u001b[0m d6 \u001b[38;5;241m=\u001b[39m {{\u001b[38;5;241m1\u001b[39m,\u001b[38;5;241m2\u001b[39m,\u001b[38;5;241m3\u001b[39m,\u001b[38;5;241m5\u001b[39m} : \u001b[38;5;124m'\u001b[39m\u001b[38;5;124mjeot\u001b[39m\u001b[38;5;124m'\u001b[39m}\n",
      "\u001b[0;31mTypeError\u001b[0m: unhashable type: 'set'"
     ]
    }
   ],
   "source": [
    "#key as a set\n",
    "d6 = {{1,2,3,5} : 'jeot'}"
   ]
  },
  {
   "cell_type": "code",
   "execution_count": 76,
   "id": "fcc22201-28f9-4a41-8c7a-52b76d68152a",
   "metadata": {},
   "outputs": [],
   "source": [
    "d7 = {'course' : ['DSA', 'Java', 'Blockchain', 'Cyber Security'], 'mentor' : ['ayon', 'kol', 'man', 'gokl'], 'price' : {'30000', '40000','50000', '60000'}, 'duration' : 1, 'access year' : 1 , 'syllabus' : {'python' : ['core python', 'oops' ,'mongodb'], 'ml' : ['supervised learning', 'unsupervised learning']}}"
   ]
  },
  {
   "cell_type": "code",
   "execution_count": 77,
   "id": "af50eb68-0c9e-4c3f-903d-72960582698a",
   "metadata": {},
   "outputs": [
    {
     "data": {
      "text/plain": [
       "{'course': ['DSA', 'Java', 'Blockchain', 'Cyber Security'],\n",
       " 'mentor': ['ayon', 'kol', 'man', 'gokl'],\n",
       " 'price': {'30000', '40000', '50000', '60000'},\n",
       " 'duration': 1,\n",
       " 'access year': 1,\n",
       " 'syllabus': {'python': ['core python', 'oops', 'mongodb'],\n",
       "  'ml': ['supervised learning', 'unsupervised learning']}}"
      ]
     },
     "execution_count": 77,
     "metadata": {},
     "output_type": "execute_result"
    }
   ],
   "source": [
    "d7"
   ]
  },
  {
   "cell_type": "code",
   "execution_count": 70,
   "id": "ace8f67a-0c87-4e49-83bd-ea4bd22f873a",
   "metadata": {},
   "outputs": [
    {
     "data": {
      "text/plain": [
       "['DSA', 'Java', 'Blockchain', 'Cyber Security']"
      ]
     },
     "execution_count": 70,
     "metadata": {},
     "output_type": "execute_result"
    }
   ],
   "source": [
    "d7['course']"
   ]
  },
  {
   "cell_type": "code",
   "execution_count": 72,
   "id": "7a905ca0-36f0-43fd-81b4-21e7e40cb483",
   "metadata": {},
   "outputs": [
    {
     "data": {
      "text/plain": [
       "['ayon', 'kol', 'man', 'gokl']"
      ]
     },
     "execution_count": 72,
     "metadata": {},
     "output_type": "execute_result"
    }
   ],
   "source": [
    "d7['mentor']"
   ]
  },
  {
   "cell_type": "code",
   "execution_count": 78,
   "id": "397e0515-78ff-4bc2-b136-3af280366710",
   "metadata": {},
   "outputs": [
    {
     "data": {
      "text/plain": [
       "{'name': 'pwskills'}"
      ]
     },
     "execution_count": 78,
     "metadata": {},
     "output_type": "execute_result"
    }
   ],
   "source": [
    "d2"
   ]
  },
  {
   "cell_type": "code",
   "execution_count": 79,
   "id": "3660484c-9dea-42b5-8dfe-ab1f54c4a032",
   "metadata": {},
   "outputs": [],
   "source": [
    "d2['phone number'] = 9900309234"
   ]
  },
  {
   "cell_type": "code",
   "execution_count": 80,
   "id": "a82c83d7-359d-40ae-bf2f-a64e733da730",
   "metadata": {},
   "outputs": [
    {
     "data": {
      "text/plain": [
       "{'name': 'pwskills', 'phone number': 9900309234}"
      ]
     },
     "execution_count": 80,
     "metadata": {},
     "output_type": "execute_result"
    }
   ],
   "source": [
    "d2"
   ]
  },
  {
   "cell_type": "code",
   "execution_count": 81,
   "id": "0242a61e-bd51-4533-9342-073d5b3c7e9a",
   "metadata": {},
   "outputs": [],
   "source": [
    "d2['name'] = 'red red'"
   ]
  },
  {
   "cell_type": "code",
   "execution_count": 82,
   "id": "48e177ae-75e7-43fa-9456-e3e80bc28831",
   "metadata": {},
   "outputs": [
    {
     "data": {
      "text/plain": [
       "{'name': 'red red', 'phone number': 9900309234}"
      ]
     },
     "execution_count": 82,
     "metadata": {},
     "output_type": "execute_result"
    }
   ],
   "source": [
    "d2"
   ]
  },
  {
   "cell_type": "markdown",
   "id": "71f141f2-8f82-44d7-a3bf-a5fa053c9090",
   "metadata": {},
   "source": [
    "Things done till now :-\n",
    "\n",
    "1) Strings\n",
    "2) Lists\n",
    "3) Tuples\n",
    "4) Sets\n",
    "5) Dictionaries"
   ]
  },
  {
   "cell_type": "code",
   "execution_count": 2,
   "id": "0cef1e2f-f435-4532-a14c-1c04bc1d1397",
   "metadata": {},
   "outputs": [],
   "source": [
    "s1 = \"pwskills\""
   ]
  },
  {
   "cell_type": "code",
   "execution_count": 86,
   "id": "3445eee5-3bee-428b-9612-174d571de944",
   "metadata": {},
   "outputs": [
    {
     "data": {
      "text/plain": [
       "'Pwskills'"
      ]
     },
     "execution_count": 86,
     "metadata": {},
     "output_type": "execute_result"
    }
   ],
   "source": [
    "s1.capitalize()"
   ]
  },
  {
   "cell_type": "code",
   "execution_count": 87,
   "id": "e001bfbe-f3b6-44ab-8990-ac0b76b6b12f",
   "metadata": {},
   "outputs": [
    {
     "data": {
      "text/plain": [
       "True"
      ]
     },
     "execution_count": 87,
     "metadata": {},
     "output_type": "execute_result"
    }
   ],
   "source": [
    "s1.islower()"
   ]
  },
  {
   "cell_type": "code",
   "execution_count": 88,
   "id": "bddec6f1-fd07-4c24-a35b-8a08b472bc29",
   "metadata": {},
   "outputs": [
    {
     "data": {
      "text/plain": [
       "False"
      ]
     },
     "execution_count": 88,
     "metadata": {},
     "output_type": "execute_result"
    }
   ],
   "source": [
    "s1.isupper()"
   ]
  },
  {
   "cell_type": "code",
   "execution_count": 3,
   "id": "160581cb-dcaa-4d2b-8688-7e0529d6c850",
   "metadata": {},
   "outputs": [
    {
     "data": {
      "text/plain": [
       "2"
      ]
     },
     "execution_count": 3,
     "metadata": {},
     "output_type": "execute_result"
    }
   ],
   "source": [
    "#Counts the number of occurences of a character\n",
    "s1.count('l')"
   ]
  },
  {
   "cell_type": "code",
   "execution_count": 4,
   "id": "cf978cc4-f78d-4324-8021-52edcdbf902e",
   "metadata": {},
   "outputs": [
    {
     "data": {
      "text/plain": [
       "2"
      ]
     },
     "execution_count": 4,
     "metadata": {},
     "output_type": "execute_result"
    }
   ],
   "source": [
    "#Returns the lowest index of the character\n",
    "s1.find('s')"
   ]
  },
  {
   "cell_type": "code",
   "execution_count": 6,
   "id": "3ca401c1-a6eb-4a13-a693-ed271690333d",
   "metadata": {},
   "outputs": [
    {
     "data": {
      "text/plain": [
       "0"
      ]
     },
     "execution_count": 6,
     "metadata": {},
     "output_type": "execute_result"
    }
   ],
   "source": [
    "s1.index('p')"
   ]
  },
  {
   "cell_type": "code",
   "execution_count": 7,
   "id": "51408c42-091f-4873-b1a0-f120fb93d917",
   "metadata": {},
   "outputs": [
    {
     "data": {
      "text/plain": [
       "-1"
      ]
     },
     "execution_count": 7,
     "metadata": {},
     "output_type": "execute_result"
    }
   ],
   "source": [
    "s1.find('z')"
   ]
  },
  {
   "cell_type": "markdown",
   "id": "20580b39-e374-4e01-b737-6775926b2c39",
   "metadata": {},
   "source": [
    "#Both functions do the same thing, but index will giue u error for a character that is not present . Whereas find gives '-1'"
   ]
  },
  {
   "cell_type": "code",
   "execution_count": 8,
   "id": "425689f1-5cc8-4c6c-a728-9fde440f0460",
   "metadata": {},
   "outputs": [
    {
     "data": {
      "text/plain": [
       "'PWSKILLS'"
      ]
     },
     "execution_count": 8,
     "metadata": {},
     "output_type": "execute_result"
    }
   ],
   "source": [
    "s1.upper()"
   ]
  },
  {
   "cell_type": "code",
   "execution_count": 9,
   "id": "266b654d-9cde-45af-bc9e-0b4a0e1e0293",
   "metadata": {},
   "outputs": [
    {
     "data": {
      "text/plain": [
       "'pwskills'"
      ]
     },
     "execution_count": 9,
     "metadata": {},
     "output_type": "execute_result"
    }
   ],
   "source": [
    "s1.lower()"
   ]
  },
  {
   "cell_type": "code",
   "execution_count": 10,
   "id": "752558cf-81f9-47c6-b280-60c7fe71d082",
   "metadata": {},
   "outputs": [],
   "source": [
    "s2 = 'My name is Ayonabh Chakraborty'"
   ]
  },
  {
   "cell_type": "code",
   "execution_count": 11,
   "id": "82e6b73e-d83e-4e6b-8062-e5fa1168c480",
   "metadata": {},
   "outputs": [
    {
     "data": {
      "text/plain": [
       "'My Name Is Ayonabh Chakraborty'"
      ]
     },
     "execution_count": 11,
     "metadata": {},
     "output_type": "execute_result"
    }
   ],
   "source": [
    "#Converts the first character of each word into upper case format\n",
    "s2.title()"
   ]
  },
  {
   "cell_type": "code",
   "execution_count": 12,
   "id": "40465761-e823-4ad9-bccb-39ede9712fe6",
   "metadata": {},
   "outputs": [
    {
     "data": {
      "text/plain": [
       "['My', 'name', 'is', 'Ayonabh', 'Chakraborty']"
      ]
     },
     "execution_count": 12,
     "metadata": {},
     "output_type": "execute_result"
    }
   ],
   "source": [
    "s2.split()"
   ]
  },
  {
   "cell_type": "code",
   "execution_count": 13,
   "id": "bab1b2b0-b865-4b6c-8061-5ac7b05248f0",
   "metadata": {},
   "outputs": [],
   "source": [
    "s3 = 'My,name,is,Ayonabh,Chakraborty'"
   ]
  },
  {
   "cell_type": "code",
   "execution_count": 14,
   "id": "cb715366-5607-4fa4-80af-b7b54ed5f799",
   "metadata": {},
   "outputs": [
    {
     "data": {
      "text/plain": [
       "['My,name,is,Ayonabh,Chakraborty']"
      ]
     },
     "execution_count": 14,
     "metadata": {},
     "output_type": "execute_result"
    }
   ],
   "source": [
    "s3.split()\n"
   ]
  },
  {
   "cell_type": "code",
   "execution_count": 15,
   "id": "fd9851db-c32a-4c41-a4c0-3b52602b65fb",
   "metadata": {},
   "outputs": [
    {
     "data": {
      "text/plain": [
       "['My', 'name', 'is', 'Ayonabh', 'Chakraborty']"
      ]
     },
     "execution_count": 15,
     "metadata": {},
     "output_type": "execute_result"
    }
   ],
   "source": [
    "s3.split(',')"
   ]
  },
  {
   "cell_type": "code",
   "execution_count": 16,
   "id": "5241d9c8-b2f1-4de8-8541-4fd32323973c",
   "metadata": {},
   "outputs": [],
   "source": [
    "s4 = 'This is my first pro class . I am attending the lectures regularly'"
   ]
  },
  {
   "cell_type": "code",
   "execution_count": 17,
   "id": "56decba1-39f3-4592-ade0-dd0f7cf9cf70",
   "metadata": {},
   "outputs": [
    {
     "data": {
      "text/plain": [
       "'This is my first pro class '"
      ]
     },
     "execution_count": 17,
     "metadata": {},
     "output_type": "execute_result"
    }
   ],
   "source": [
    "s4.split('.')[0]"
   ]
  },
  {
   "cell_type": "code",
   "execution_count": 21,
   "id": "cac93c10-bfd5-4395-8853-599c9f7d4241",
   "metadata": {},
   "outputs": [
    {
     "data": {
      "text/plain": [
       "['This is my first pro class ', ' I am attending the lectures regularly']"
      ]
     },
     "execution_count": 21,
     "metadata": {},
     "output_type": "execute_result"
    }
   ],
   "source": [
    "s4.split('.')[0:4]"
   ]
  },
  {
   "cell_type": "markdown",
   "id": "5d48c57f-111b-4b04-b797-f781797c8351",
   "metadata": {},
   "source": [
    "The split fucntion splits a String based on space. But you can set your own limiters like ',' or '.' etc"
   ]
  },
  {
   "cell_type": "code",
   "execution_count": 19,
   "id": "952e8668-0720-448a-a0fb-995dffeb24b6",
   "metadata": {},
   "outputs": [
    {
     "data": {
      "text/plain": [
       "'My aame is Ayoaabh Chakraborty'"
      ]
     },
     "execution_count": 19,
     "metadata": {},
     "output_type": "execute_result"
    }
   ],
   "source": [
    "s2.replace('n','a')"
   ]
  },
  {
   "cell_type": "code",
   "execution_count": 20,
   "id": "724ad22c-cd4d-45c4-a395-27e828babf28",
   "metadata": {},
   "outputs": [
    {
     "data": {
      "text/plain": [
       "'My name is Ayonabh Chakraborty'"
      ]
     },
     "execution_count": 20,
     "metadata": {},
     "output_type": "execute_result"
    }
   ],
   "source": [
    "s2"
   ]
  },
  {
   "cell_type": "code",
   "execution_count": 22,
   "id": "9f307b6b-55f0-4973-bcf4-3dfa36d16b55",
   "metadata": {},
   "outputs": [
    {
     "data": {
      "text/plain": [
       "'ffffffffffffffffpwskillsffffffffffffffff'"
      ]
     },
     "execution_count": 22,
     "metadata": {},
     "output_type": "execute_result"
    }
   ],
   "source": [
    "s1.center(40,'f')"
   ]
  },
  {
   "cell_type": "code",
   "execution_count": 23,
   "id": "eadbaddb-f11a-4534-a3aa-422c905b9187",
   "metadata": {},
   "outputs": [
    {
     "data": {
      "text/plain": [
       "'pwskills'"
      ]
     },
     "execution_count": 23,
     "metadata": {},
     "output_type": "execute_result"
    }
   ],
   "source": [
    "s1.rstrip()"
   ]
  },
  {
   "cell_type": "code",
   "execution_count": 24,
   "id": "d8112d80-fe85-4013-aa72-7ec2826cb23f",
   "metadata": {},
   "outputs": [],
   "source": [
    "s5 = '     ilo     '"
   ]
  },
  {
   "cell_type": "code",
   "execution_count": 25,
   "id": "05a752f1-63d5-449c-aa3e-8b904b672cf3",
   "metadata": {},
   "outputs": [
    {
     "data": {
      "text/plain": [
       "'     ilo'"
      ]
     },
     "execution_count": 25,
     "metadata": {},
     "output_type": "execute_result"
    }
   ],
   "source": [
    "s5.rstrip()"
   ]
  },
  {
   "cell_type": "code",
   "execution_count": 26,
   "id": "c442ab04-6faf-4470-a69f-03c196239843",
   "metadata": {},
   "outputs": [
    {
     "data": {
      "text/plain": [
       "'ilo     '"
      ]
     },
     "execution_count": 26,
     "metadata": {},
     "output_type": "execute_result"
    }
   ],
   "source": [
    "s5.lstrip()"
   ]
  },
  {
   "cell_type": "code",
   "execution_count": 27,
   "id": "a5a3f8ff-017d-41cf-912d-f7d1cec86f28",
   "metadata": {},
   "outputs": [
    {
     "data": {
      "text/plain": [
       "True"
      ]
     },
     "execution_count": 27,
     "metadata": {},
     "output_type": "execute_result"
    }
   ],
   "source": [
    "s1.isalpha()"
   ]
  },
  {
   "cell_type": "code",
   "execution_count": 28,
   "id": "498b56f7-a49d-4842-b3e3-ae13fad71a03",
   "metadata": {},
   "outputs": [
    {
     "data": {
      "text/plain": [
       "False"
      ]
     },
     "execution_count": 28,
     "metadata": {},
     "output_type": "execute_result"
    }
   ],
   "source": [
    "s1.isnumeric()"
   ]
  },
  {
   "cell_type": "code",
   "execution_count": 34,
   "id": "75293ae4-f886-49cb-aa21-a4fa2e91ffc3",
   "metadata": {},
   "outputs": [
    {
     "data": {
      "text/plain": [
       "[1, 2, 'red', (3+6j), 67]"
      ]
     },
     "execution_count": 34,
     "metadata": {},
     "output_type": "execute_result"
    }
   ],
   "source": [
    "l1"
   ]
  },
  {
   "cell_type": "code",
   "execution_count": 35,
   "id": "09aa849a-16a6-4948-849c-6fe0533067d3",
   "metadata": {},
   "outputs": [
    {
     "data": {
      "text/plain": [
       "[3, 4, 5, 'pwskills', 'lab']"
      ]
     },
     "execution_count": 35,
     "metadata": {},
     "output_type": "execute_result"
    }
   ],
   "source": [
    "l2"
   ]
  },
  {
   "cell_type": "code",
   "execution_count": 37,
   "id": "a4ce7730-adce-4057-a789-cc8e9557ea90",
   "metadata": {},
   "outputs": [],
   "source": [
    "l1.append('plugnnb')"
   ]
  },
  {
   "cell_type": "code",
   "execution_count": 38,
   "id": "0dc70e48-71cf-421d-a6b5-13785f846f25",
   "metadata": {},
   "outputs": [
    {
     "data": {
      "text/plain": [
       "[1, 2, 'red', (3+6j), 67, 'plugnnb']"
      ]
     },
     "execution_count": 38,
     "metadata": {},
     "output_type": "execute_result"
    }
   ],
   "source": [
    "l1"
   ]
  },
  {
   "cell_type": "code",
   "execution_count": 39,
   "id": "e8074c26-4af8-4680-9360-c1319248fa31",
   "metadata": {},
   "outputs": [],
   "source": [
    "l1.insert(3,'blue')"
   ]
  },
  {
   "cell_type": "code",
   "execution_count": 40,
   "id": "2743003c-44df-4f7c-bd5a-cd13cd5bf7e8",
   "metadata": {},
   "outputs": [
    {
     "data": {
      "text/plain": [
       "[1, 2, 'red', 'blue', (3+6j), 67, 'plugnnb']"
      ]
     },
     "execution_count": 40,
     "metadata": {},
     "output_type": "execute_result"
    }
   ],
   "source": [
    "l1"
   ]
  },
  {
   "cell_type": "code",
   "execution_count": 42,
   "id": "789c5b7e-ec2b-4e57-8251-67b59d26ded5",
   "metadata": {},
   "outputs": [],
   "source": [
    "l2.insert(2,\"pluggnb\")"
   ]
  },
  {
   "cell_type": "code",
   "execution_count": 43,
   "id": "d457318c-fa0d-4dfd-8ab6-a16e795e317b",
   "metadata": {},
   "outputs": [
    {
     "data": {
      "text/plain": [
       "[3, 4, 'pluggnb', 5, 'pwskills', 'lab', 'p', 'l', 'u', 'g', 'g', 'n', 'b']"
      ]
     },
     "execution_count": 43,
     "metadata": {},
     "output_type": "execute_result"
    }
   ],
   "source": [
    "l2"
   ]
  },
  {
   "cell_type": "code",
   "execution_count": 44,
   "id": "76411974-9249-4a5a-999b-01f2115ab69d",
   "metadata": {},
   "outputs": [],
   "source": [
    "l2.extend(\"kolkata\")"
   ]
  },
  {
   "cell_type": "code",
   "execution_count": 45,
   "id": "f956ba84-56dd-418a-ac2a-4f080bcfea7d",
   "metadata": {},
   "outputs": [
    {
     "data": {
      "text/plain": [
       "[3,\n",
       " 4,\n",
       " 'pluggnb',\n",
       " 5,\n",
       " 'pwskills',\n",
       " 'lab',\n",
       " 'p',\n",
       " 'l',\n",
       " 'u',\n",
       " 'g',\n",
       " 'g',\n",
       " 'n',\n",
       " 'b',\n",
       " 'k',\n",
       " 'o',\n",
       " 'l',\n",
       " 'k',\n",
       " 'a',\n",
       " 't',\n",
       " 'a']"
      ]
     },
     "execution_count": 45,
     "metadata": {},
     "output_type": "execute_result"
    }
   ],
   "source": [
    "l2"
   ]
  },
  {
   "cell_type": "code",
   "execution_count": 57,
   "id": "4f0e6e0e-16c5-4677-85d9-39d6d14005b7",
   "metadata": {},
   "outputs": [],
   "source": [
    "l3 = [1,2,3,4,5]"
   ]
  },
  {
   "cell_type": "code",
   "execution_count": 47,
   "id": "78cdcde2-796b-4254-af00-a17ee1617743",
   "metadata": {},
   "outputs": [],
   "source": [
    "l3.append([1,2,3])"
   ]
  },
  {
   "cell_type": "code",
   "execution_count": 48,
   "id": "a4d834e1-0727-45fe-b93e-bd88ea40a281",
   "metadata": {},
   "outputs": [
    {
     "data": {
      "text/plain": [
       "[1, 2, 3, 4, 5, [1, 2, 3]]"
      ]
     },
     "execution_count": 48,
     "metadata": {},
     "output_type": "execute_result"
    }
   ],
   "source": [
    "l3"
   ]
  },
  {
   "cell_type": "code",
   "execution_count": 49,
   "id": "5f454e5e-0308-49b5-99cb-1070091eee1f",
   "metadata": {},
   "outputs": [],
   "source": [
    "l3.extend([4,5,6])"
   ]
  },
  {
   "cell_type": "code",
   "execution_count": 50,
   "id": "dba98366-209c-406d-a025-62ec518a4bcc",
   "metadata": {},
   "outputs": [
    {
     "data": {
      "text/plain": [
       "[1, 2, 3, 4, 5, [1, 2, 3], 4, 5, 6]"
      ]
     },
     "execution_count": 50,
     "metadata": {},
     "output_type": "execute_result"
    }
   ],
   "source": [
    "l3"
   ]
  },
  {
   "cell_type": "code",
   "execution_count": 51,
   "id": "e5bddeeb-281b-4440-b728-b1bd29e81f39",
   "metadata": {},
   "outputs": [
    {
     "data": {
      "text/plain": [
       "6"
      ]
     },
     "execution_count": 51,
     "metadata": {},
     "output_type": "execute_result"
    }
   ],
   "source": [
    "l3.pop() #by default pops the last element"
   ]
  },
  {
   "cell_type": "code",
   "execution_count": 52,
   "id": "1e218085-71ae-4c17-888a-3560b408d1e1",
   "metadata": {},
   "outputs": [
    {
     "data": {
      "text/plain": [
       "3"
      ]
     },
     "execution_count": 52,
     "metadata": {},
     "output_type": "execute_result"
    }
   ],
   "source": [
    "l3.pop(2)"
   ]
  },
  {
   "cell_type": "code",
   "execution_count": 53,
   "id": "909a60f6-0f2c-4b96-8246-0c63e3608446",
   "metadata": {},
   "outputs": [
    {
     "data": {
      "text/plain": [
       "[1, 2, 4, 5, [1, 2, 3], 4, 5]"
      ]
     },
     "execution_count": 53,
     "metadata": {},
     "output_type": "execute_result"
    }
   ],
   "source": [
    "l3"
   ]
  },
  {
   "cell_type": "code",
   "execution_count": 58,
   "id": "3cf55db9-57e0-4bd1-9f39-eed69da765f2",
   "metadata": {},
   "outputs": [],
   "source": [
    "del l3 #deleting the list at once"
   ]
  },
  {
   "cell_type": "code",
   "execution_count": 55,
   "id": "fa69e0d0-b57e-443c-ad0a-a4284f5beddf",
   "metadata": {},
   "outputs": [
    {
     "ename": "NameError",
     "evalue": "name 'l3' is not defined",
     "output_type": "error",
     "traceback": [
      "\u001b[0;31m---------------------------------------------------------------------------\u001b[0m",
      "\u001b[0;31mNameError\u001b[0m                                 Traceback (most recent call last)",
      "Cell \u001b[0;32mIn[55], line 1\u001b[0m\n\u001b[0;32m----> 1\u001b[0m \u001b[43ml3\u001b[49m\n",
      "\u001b[0;31mNameError\u001b[0m: name 'l3' is not defined"
     ]
    }
   ],
   "source": [
    "l3"
   ]
  },
  {
   "cell_type": "code",
   "execution_count": 59,
   "id": "2e94e18d-356a-4429-a11a-05bd7f34b225",
   "metadata": {},
   "outputs": [],
   "source": [
    "l2.remove('k') #deletes the first occurence of the element"
   ]
  },
  {
   "cell_type": "code",
   "execution_count": 60,
   "id": "3665094a-1fdb-4de2-8a9a-e7101e7c3e7a",
   "metadata": {},
   "outputs": [
    {
     "data": {
      "text/plain": [
       "[3,\n",
       " 4,\n",
       " 'pluggnb',\n",
       " 5,\n",
       " 'pwskills',\n",
       " 'lab',\n",
       " 'p',\n",
       " 'l',\n",
       " 'u',\n",
       " 'g',\n",
       " 'g',\n",
       " 'n',\n",
       " 'b',\n",
       " 'o',\n",
       " 'l',\n",
       " 'k',\n",
       " 'a',\n",
       " 't',\n",
       " 'a']"
      ]
     },
     "execution_count": 60,
     "metadata": {},
     "output_type": "execute_result"
    }
   ],
   "source": [
    "l2"
   ]
  },
  {
   "cell_type": "code",
   "execution_count": 61,
   "id": "8ba391af-fcb6-4a59-8db2-09e99891d606",
   "metadata": {},
   "outputs": [],
   "source": [
    "l1.clear() #Just clears the list, but the list remains valid"
   ]
  },
  {
   "cell_type": "code",
   "execution_count": 62,
   "id": "9343ce74-90ec-4d87-b89c-ebc61e1c3343",
   "metadata": {},
   "outputs": [
    {
     "data": {
      "text/plain": [
       "[]"
      ]
     },
     "execution_count": 62,
     "metadata": {},
     "output_type": "execute_result"
    }
   ],
   "source": [
    "l1"
   ]
  },
  {
   "cell_type": "code",
   "execution_count": 63,
   "id": "80385739-31ea-46f1-bd96-00f0ab1e8b0c",
   "metadata": {},
   "outputs": [
    {
     "data": {
      "text/plain": [
       "1"
      ]
     },
     "execution_count": 63,
     "metadata": {},
     "output_type": "execute_result"
    }
   ],
   "source": [
    "l2.count('o')"
   ]
  },
  {
   "cell_type": "code",
   "execution_count": 64,
   "id": "fcc46b94-e7d5-4be7-a790-5b9a521414e1",
   "metadata": {},
   "outputs": [
    {
     "data": {
      "text/plain": [
       "2"
      ]
     },
     "execution_count": 64,
     "metadata": {},
     "output_type": "execute_result"
    }
   ],
   "source": [
    "l2.count('g')"
   ]
  },
  {
   "cell_type": "code",
   "execution_count": 65,
   "id": "cf120dc5-023b-41ed-b46c-89fb58cb71eb",
   "metadata": {},
   "outputs": [
    {
     "data": {
      "text/plain": [
       "6"
      ]
     },
     "execution_count": 65,
     "metadata": {},
     "output_type": "execute_result"
    }
   ],
   "source": [
    "l2.index('p')"
   ]
  },
  {
   "cell_type": "code",
   "execution_count": 66,
   "id": "e93c8758-4713-42d1-a75f-61b068985d64",
   "metadata": {},
   "outputs": [],
   "source": [
    "l2.reverse() #just reverses the dataset"
   ]
  },
  {
   "cell_type": "code",
   "execution_count": 67,
   "id": "f5868930-4b3c-4cc6-94bf-2bc5562806dc",
   "metadata": {},
   "outputs": [
    {
     "data": {
      "text/plain": [
       "['a',\n",
       " 't',\n",
       " 'a',\n",
       " 'k',\n",
       " 'l',\n",
       " 'o',\n",
       " 'b',\n",
       " 'n',\n",
       " 'g',\n",
       " 'g',\n",
       " 'u',\n",
       " 'l',\n",
       " 'p',\n",
       " 'lab',\n",
       " 'pwskills',\n",
       " 5,\n",
       " 'pluggnb',\n",
       " 4,\n",
       " 3]"
      ]
     },
     "execution_count": 67,
     "metadata": {},
     "output_type": "execute_result"
    }
   ],
   "source": [
    "l2"
   ]
  },
  {
   "cell_type": "code",
   "execution_count": 68,
   "id": "b80a4a46-2f2c-45d0-a83b-9703963268d1",
   "metadata": {},
   "outputs": [],
   "source": [
    "l4 = [ 2,65,7,90,10000,23]"
   ]
  },
  {
   "cell_type": "code",
   "execution_count": 69,
   "id": "9ae63029-cd51-4a30-984f-69113675d6ea",
   "metadata": {},
   "outputs": [],
   "source": [
    "l4.sort()"
   ]
  },
  {
   "cell_type": "code",
   "execution_count": 70,
   "id": "313aad21-4ded-4704-8caf-ce564621ebf1",
   "metadata": {},
   "outputs": [
    {
     "data": {
      "text/plain": [
       "[2, 7, 23, 65, 90, 10000]"
      ]
     },
     "execution_count": 70,
     "metadata": {},
     "output_type": "execute_result"
    }
   ],
   "source": [
    "l4"
   ]
  },
  {
   "cell_type": "code",
   "execution_count": 73,
   "id": "4ee041fe-9a4f-4959-b1d6-02b099dcfd11",
   "metadata": {},
   "outputs": [],
   "source": [
    "l5 = ['abcd', 'according', 'aain', 'caine']"
   ]
  },
  {
   "cell_type": "code",
   "execution_count": 74,
   "id": "95ceaf80-a2f6-4540-99ad-4e42c764e719",
   "metadata": {},
   "outputs": [],
   "source": [
    "l5.sort()"
   ]
  },
  {
   "cell_type": "code",
   "execution_count": 75,
   "id": "973f0e7f-cea1-4c15-933e-72b912308b28",
   "metadata": {},
   "outputs": [
    {
     "data": {
      "text/plain": [
       "['aain', 'abcd', 'according', 'caine']"
      ]
     },
     "execution_count": 75,
     "metadata": {},
     "output_type": "execute_result"
    }
   ],
   "source": [
    "l5"
   ]
  },
  {
   "cell_type": "code",
   "execution_count": 77,
   "id": "dc2260dc-2fda-4d0c-a8fc-b373affe40c0",
   "metadata": {},
   "outputs": [],
   "source": [
    "l5.sort(reverse=True)"
   ]
  },
  {
   "cell_type": "code",
   "execution_count": 78,
   "id": "6f764f0a-c768-486e-a10f-0afc0f263d91",
   "metadata": {},
   "outputs": [
    {
     "data": {
      "text/plain": [
       "['caine', 'according', 'abcd', 'aain']"
      ]
     },
     "execution_count": 78,
     "metadata": {},
     "output_type": "execute_result"
    }
   ],
   "source": [
    "l5"
   ]
  },
  {
   "cell_type": "code",
   "execution_count": 79,
   "id": "c73fe864-1eef-435d-a71c-4f3a96df9336",
   "metadata": {},
   "outputs": [
    {
     "data": {
      "text/plain": [
       "['a',\n",
       " 't',\n",
       " 'a',\n",
       " 'k',\n",
       " 'l',\n",
       " 'o',\n",
       " 'b',\n",
       " 'n',\n",
       " 'g',\n",
       " 'g',\n",
       " 'u',\n",
       " 'l',\n",
       " 'p',\n",
       " 'lab',\n",
       " 'pwskills',\n",
       " 5,\n",
       " 'pluggnb',\n",
       " 4,\n",
       " 3]"
      ]
     },
     "execution_count": 79,
     "metadata": {},
     "output_type": "execute_result"
    }
   ],
   "source": [
    "l2"
   ]
  },
  {
   "cell_type": "code",
   "execution_count": 80,
   "id": "a2777a32-0c59-43f5-8413-3ba744b6531a",
   "metadata": {},
   "outputs": [],
   "source": [
    "l6 = set(l2)"
   ]
  },
  {
   "cell_type": "code",
   "execution_count": 81,
   "id": "7d4caa2d-736f-4a43-9d1e-ba129002b5aa",
   "metadata": {},
   "outputs": [
    {
     "data": {
      "text/plain": [
       "{3,\n",
       " 4,\n",
       " 5,\n",
       " 'a',\n",
       " 'b',\n",
       " 'g',\n",
       " 'k',\n",
       " 'l',\n",
       " 'lab',\n",
       " 'n',\n",
       " 'o',\n",
       " 'p',\n",
       " 'pluggnb',\n",
       " 'pwskills',\n",
       " 't',\n",
       " 'u'}"
      ]
     },
     "execution_count": 81,
     "metadata": {},
     "output_type": "execute_result"
    }
   ],
   "source": [
    "l6"
   ]
  },
  {
   "cell_type": "code",
   "execution_count": 84,
   "id": "112043bd-7a7c-4241-ae86-373e4d820f1e",
   "metadata": {},
   "outputs": [],
   "source": [
    "l7 = list(l6)"
   ]
  },
  {
   "cell_type": "code",
   "execution_count": 86,
   "id": "62dacc6c-090b-4543-80a9-f70ae89a6cea",
   "metadata": {},
   "outputs": [
    {
     "ename": "TypeError",
     "evalue": "'<' not supported between instances of 'int' and 'str'",
     "output_type": "error",
     "traceback": [
      "\u001b[0;31m---------------------------------------------------------------------------\u001b[0m",
      "\u001b[0;31mTypeError\u001b[0m                                 Traceback (most recent call last)",
      "Cell \u001b[0;32mIn[86], line 1\u001b[0m\n\u001b[0;32m----> 1\u001b[0m \u001b[43ml7\u001b[49m\u001b[38;5;241;43m.\u001b[39;49m\u001b[43msort\u001b[49m\u001b[43m(\u001b[49m\u001b[43m)\u001b[49m\n",
      "\u001b[0;31mTypeError\u001b[0m: '<' not supported between instances of 'int' and 'str'"
     ]
    }
   ],
   "source": [
    "l7.sort()"
   ]
  },
  {
   "cell_type": "code",
   "execution_count": 87,
   "id": "243c6ff9-b700-4081-98f8-a78a4c882b8d",
   "metadata": {},
   "outputs": [],
   "source": [
    "a0 = [1,2,3,4]"
   ]
  },
  {
   "cell_type": "code",
   "execution_count": 88,
   "id": "75bfd7e8-12c0-4596-9ccd-8d74cccdfc57",
   "metadata": {},
   "outputs": [],
   "source": [
    "a1 = a0"
   ]
  },
  {
   "cell_type": "code",
   "execution_count": 89,
   "id": "0ee00d5f-c7ef-4f6d-b533-98a54f899a37",
   "metadata": {},
   "outputs": [
    {
     "data": {
      "text/plain": [
       "[1, 2, 3, 4]"
      ]
     },
     "execution_count": 89,
     "metadata": {},
     "output_type": "execute_result"
    }
   ],
   "source": [
    "a0"
   ]
  },
  {
   "cell_type": "code",
   "execution_count": 90,
   "id": "eeac87e6-2e27-4633-8bd5-48c7f81ed208",
   "metadata": {},
   "outputs": [
    {
     "data": {
      "text/plain": [
       "[1, 2, 3, 4]"
      ]
     },
     "execution_count": 90,
     "metadata": {},
     "output_type": "execute_result"
    }
   ],
   "source": [
    "a1"
   ]
  },
  {
   "cell_type": "code",
   "execution_count": 91,
   "id": "86ea076b-49e7-40af-845b-e158bd3144e7",
   "metadata": {},
   "outputs": [],
   "source": [
    "a0[0] = 100"
   ]
  },
  {
   "cell_type": "code",
   "execution_count": 92,
   "id": "d3ba6c39-1387-452d-bdc6-221c443459ac",
   "metadata": {},
   "outputs": [
    {
     "data": {
      "text/plain": [
       "[100, 2, 3, 4]"
      ]
     },
     "execution_count": 92,
     "metadata": {},
     "output_type": "execute_result"
    }
   ],
   "source": [
    "a0"
   ]
  },
  {
   "cell_type": "code",
   "execution_count": 93,
   "id": "df835d6e-48e7-4220-a43d-221298355b70",
   "metadata": {},
   "outputs": [
    {
     "data": {
      "text/plain": [
       "[100, 2, 3, 4]"
      ]
     },
     "execution_count": 93,
     "metadata": {},
     "output_type": "execute_result"
    }
   ],
   "source": [
    "a1"
   ]
  },
  {
   "cell_type": "markdown",
   "id": "67d3db7d-8864-477b-965e-273d3d2cae8a",
   "metadata": {},
   "source": [
    "Changes made in the original list affects the values in the duplicated list too"
   ]
  },
  {
   "cell_type": "code",
   "execution_count": 94,
   "id": "1840b505-53a8-42f6-b759-f96c96f13a55",
   "metadata": {},
   "outputs": [],
   "source": [
    "a2 = a0.copy()"
   ]
  },
  {
   "cell_type": "code",
   "execution_count": 95,
   "id": "b6dbabe0-b552-4323-909c-cb5cee74c576",
   "metadata": {},
   "outputs": [
    {
     "data": {
      "text/plain": [
       "[100, 2, 3, 4]"
      ]
     },
     "execution_count": 95,
     "metadata": {},
     "output_type": "execute_result"
    }
   ],
   "source": [
    "a2"
   ]
  },
  {
   "cell_type": "code",
   "execution_count": 96,
   "id": "90571dfa-cdc5-4715-a519-c808e6f364d5",
   "metadata": {},
   "outputs": [],
   "source": [
    "a0[0] = 500"
   ]
  },
  {
   "cell_type": "code",
   "execution_count": 97,
   "id": "b835a8c4-3b75-4748-9a67-636844b6bfdd",
   "metadata": {},
   "outputs": [
    {
     "data": {
      "text/plain": [
       "[500, 2, 3, 4]"
      ]
     },
     "execution_count": 97,
     "metadata": {},
     "output_type": "execute_result"
    }
   ],
   "source": [
    "a0"
   ]
  },
  {
   "cell_type": "code",
   "execution_count": 98,
   "id": "12ce7ce4-70da-4b03-870a-058318244101",
   "metadata": {},
   "outputs": [
    {
     "data": {
      "text/plain": [
       "[100, 2, 3, 4]"
      ]
     },
     "execution_count": 98,
     "metadata": {},
     "output_type": "execute_result"
    }
   ],
   "source": [
    "a2"
   ]
  },
  {
   "cell_type": "markdown",
   "id": "1653b57f-2c93-497a-bd4c-9756300968b1",
   "metadata": {},
   "source": [
    "Changes made in the original list doesn't make any changes in the copied list"
   ]
  },
  {
   "cell_type": "code",
   "execution_count": 101,
   "id": "63c10d49-35a0-4402-82a5-18013dc2b423",
   "metadata": {},
   "outputs": [
    {
     "data": {
      "text/plain": [
       "(1, 2, 3, 4, 'red', 'number9', (4+5j), True)"
      ]
     },
     "execution_count": 101,
     "metadata": {},
     "output_type": "execute_result"
    }
   ],
   "source": [
    "t"
   ]
  },
  {
   "cell_type": "code",
   "execution_count": 102,
   "id": "1d91643e-583f-4c66-8a83-69894c6294ea",
   "metadata": {},
   "outputs": [
    {
     "data": {
      "text/plain": [
       "1"
      ]
     },
     "execution_count": 102,
     "metadata": {},
     "output_type": "execute_result"
    }
   ],
   "source": [
    "t.count(4)"
   ]
  },
  {
   "cell_type": "code",
   "execution_count": 104,
   "id": "e2e80939-7032-42c6-ad5f-7583be206d72",
   "metadata": {},
   "outputs": [
    {
     "data": {
      "text/plain": [
       "5"
      ]
     },
     "execution_count": 104,
     "metadata": {},
     "output_type": "execute_result"
    }
   ],
   "source": [
    "t.index('number9')"
   ]
  },
  {
   "cell_type": "code",
   "execution_count": 107,
   "id": "53a859f7-b918-440b-8d0c-c491ff3ede7f",
   "metadata": {},
   "outputs": [
    {
     "data": {
      "text/plain": [
       "{}"
      ]
     },
     "execution_count": 107,
     "metadata": {},
     "output_type": "execute_result"
    }
   ],
   "source": [
    "s"
   ]
  },
  {
   "cell_type": "code",
   "execution_count": 108,
   "id": "b6f240b7-aa10-4cd3-8dc8-7d0abbe6c282",
   "metadata": {},
   "outputs": [],
   "source": [
    "s = {1,2,3,4,5,6,7,8,9,0}"
   ]
  },
  {
   "cell_type": "code",
   "execution_count": 109,
   "id": "927c1d32-9a0d-4a17-80f8-4c667bc539c0",
   "metadata": {},
   "outputs": [
    {
     "data": {
      "text/plain": [
       "set"
      ]
     },
     "execution_count": 109,
     "metadata": {},
     "output_type": "execute_result"
    }
   ],
   "source": [
    "type(s)"
   ]
  },
  {
   "cell_type": "code",
   "execution_count": 110,
   "id": "d75c7db2-7a18-46d9-9a1c-cd61d4b43f21",
   "metadata": {},
   "outputs": [],
   "source": [
    "s.add(234)"
   ]
  },
  {
   "cell_type": "code",
   "execution_count": 111,
   "id": "d8feed9b-806d-4ff0-9911-67343344a501",
   "metadata": {},
   "outputs": [
    {
     "data": {
      "text/plain": [
       "{0, 1, 2, 3, 4, 5, 6, 7, 8, 9, 234}"
      ]
     },
     "execution_count": 111,
     "metadata": {},
     "output_type": "execute_result"
    }
   ],
   "source": [
    "s"
   ]
  },
  {
   "cell_type": "code",
   "execution_count": 112,
   "id": "1caddbfd-5cd4-42d5-8157-a957c58f4477",
   "metadata": {},
   "outputs": [],
   "source": [
    "s.discard(5)"
   ]
  },
  {
   "cell_type": "code",
   "execution_count": 113,
   "id": "8b9fe478-7b53-42cd-8255-a72e70da1d5a",
   "metadata": {},
   "outputs": [
    {
     "data": {
      "text/plain": [
       "{0, 1, 2, 3, 4, 6, 7, 8, 9, 234}"
      ]
     },
     "execution_count": 113,
     "metadata": {},
     "output_type": "execute_result"
    }
   ],
   "source": [
    "s"
   ]
  },
  {
   "cell_type": "code",
   "execution_count": 115,
   "id": "3e3e6b4a-29f7-4f7b-8675-659017005997",
   "metadata": {},
   "outputs": [
    {
     "data": {
      "text/plain": [
       "0"
      ]
     },
     "execution_count": 115,
     "metadata": {},
     "output_type": "execute_result"
    }
   ],
   "source": [
    "s.pop() #Pops the first element in the set"
   ]
  },
  {
   "cell_type": "code",
   "execution_count": 116,
   "id": "87329eab-380f-42d0-b310-0f79aebf11e4",
   "metadata": {},
   "outputs": [],
   "source": [
    "s.remove(234)"
   ]
  },
  {
   "cell_type": "code",
   "execution_count": 117,
   "id": "e849aaf2-9465-461b-93fa-334dcea8e09a",
   "metadata": {},
   "outputs": [
    {
     "data": {
      "text/plain": [
       "{1, 2, 3, 4, 6, 7, 8, 9}"
      ]
     },
     "execution_count": 117,
     "metadata": {},
     "output_type": "execute_result"
    }
   ],
   "source": [
    "s"
   ]
  },
  {
   "cell_type": "code",
   "execution_count": 121,
   "id": "c4755d38-62b4-48e5-96c4-a0c73c71a928",
   "metadata": {},
   "outputs": [],
   "source": [
    "s.update('true')"
   ]
  },
  {
   "cell_type": "code",
   "execution_count": 122,
   "id": "aad2428c-5c35-4b7b-a91a-1c58fe58f894",
   "metadata": {},
   "outputs": [
    {
     "data": {
      "text/plain": [
       "{1, 2, 3, 4, 6, 7, 8, 9, 'e', 'r', 't', 'u'}"
      ]
     },
     "execution_count": 122,
     "metadata": {},
     "output_type": "execute_result"
    }
   ],
   "source": [
    "s"
   ]
  },
  {
   "cell_type": "code",
   "execution_count": 123,
   "id": "56e567f0-5ce3-41f8-bb4c-66d5f83d72ec",
   "metadata": {},
   "outputs": [
    {
     "ename": "TypeError",
     "evalue": "'int' object is not iterable",
     "output_type": "error",
     "traceback": [
      "\u001b[0;31m---------------------------------------------------------------------------\u001b[0m",
      "\u001b[0;31mTypeError\u001b[0m                                 Traceback (most recent call last)",
      "Cell \u001b[0;32mIn[123], line 1\u001b[0m\n\u001b[0;32m----> 1\u001b[0m \u001b[43ms\u001b[49m\u001b[38;5;241;43m.\u001b[39;49m\u001b[43mupdate\u001b[49m\u001b[43m(\u001b[49m\u001b[38;5;241;43m89\u001b[39;49m\u001b[43m)\u001b[49m\n",
      "\u001b[0;31mTypeError\u001b[0m: 'int' object is not iterable"
     ]
    }
   ],
   "source": [
    "s.update(89)"
   ]
  },
  {
   "cell_type": "code",
   "execution_count": 130,
   "id": "9edff967-8523-4355-a461-a7db05691257",
   "metadata": {},
   "outputs": [
    {
     "data": {
      "text/plain": [
       "['name', 'subject']"
      ]
     },
     "execution_count": 130,
     "metadata": {},
     "output_type": "execute_result"
    }
   ],
   "source": [
    "list(d1.keys())"
   ]
  },
  {
   "cell_type": "code",
   "execution_count": 132,
   "id": "f2f3f7ec-eb3b-4af2-8d07-7e3b7d7fac8b",
   "metadata": {},
   "outputs": [
    {
     "data": {
      "text/plain": [
       "['ayonav', ['big dta', 'data science', 'data analyst']]"
      ]
     },
     "execution_count": 132,
     "metadata": {},
     "output_type": "execute_result"
    }
   ],
   "source": [
    "list(d1.values())"
   ]
  },
  {
   "cell_type": "code",
   "execution_count": 133,
   "id": "e777311e-c76a-45ab-8399-090d74cf7acc",
   "metadata": {},
   "outputs": [
    {
     "data": {
      "text/plain": [
       "[('name', 'ayonav'), ('subject', ['big dta', 'data science', 'data analyst'])]"
      ]
     },
     "execution_count": 133,
     "metadata": {},
     "output_type": "execute_result"
    }
   ],
   "source": [
    "list(d1.items())"
   ]
  },
  {
   "cell_type": "code",
   "execution_count": 134,
   "id": "35a5178d-c52c-4222-ac7b-642a2f32a695",
   "metadata": {},
   "outputs": [
    {
     "data": {
      "text/plain": [
       "'ayonav'"
      ]
     },
     "execution_count": 134,
     "metadata": {},
     "output_type": "execute_result"
    }
   ],
   "source": [
    "d1.get('name')"
   ]
  },
  {
   "cell_type": "code",
   "execution_count": 135,
   "id": "acc587d7-94b6-4abb-a31b-b1a0ee2f4e13",
   "metadata": {},
   "outputs": [
    {
     "data": {
      "text/plain": [
       "'ayonav'"
      ]
     },
     "execution_count": 135,
     "metadata": {},
     "output_type": "execute_result"
    }
   ],
   "source": [
    "d1['name']"
   ]
  },
  {
   "cell_type": "code",
   "execution_count": 136,
   "id": "be8ed25d-2306-467a-a023-ebe9fbf61108",
   "metadata": {},
   "outputs": [
    {
     "data": {
      "text/plain": [
       "'pwskills'"
      ]
     },
     "execution_count": 136,
     "metadata": {},
     "output_type": "execute_result"
    }
   ],
   "source": [
    "s1"
   ]
  },
  {
   "cell_type": "code",
   "execution_count": 137,
   "id": "36477ef3-810c-49eb-98b7-948b542aa2d5",
   "metadata": {},
   "outputs": [
    {
     "data": {
      "text/plain": [
       "b'pwskills'"
      ]
     },
     "execution_count": 137,
     "metadata": {},
     "output_type": "execute_result"
    }
   ],
   "source": [
    "s1.encode('utf-8')"
   ]
  },
  {
   "cell_type": "code",
   "execution_count": 138,
   "id": "20903f41-f01a-4a52-8363-2693fb0b600d",
   "metadata": {},
   "outputs": [],
   "source": [
    "import base64\n",
    "s = "
   ]
  },
  {
   "cell_type": "code",
   "execution_count": null,
   "id": "62b3168c-cc5d-4e62-a306-c01a4d145b16",
   "metadata": {},
   "outputs": [],
   "source": []
  }
 ],
 "metadata": {
  "kernelspec": {
   "display_name": "Python 3 (ipykernel)",
   "language": "python",
   "name": "python3"
  },
  "language_info": {
   "codemirror_mode": {
    "name": "ipython",
    "version": 3
   },
   "file_extension": ".py",
   "mimetype": "text/x-python",
   "name": "python",
   "nbconvert_exporter": "python",
   "pygments_lexer": "ipython3",
   "version": "3.10.8"
  }
 },
 "nbformat": 4,
 "nbformat_minor": 5
}
